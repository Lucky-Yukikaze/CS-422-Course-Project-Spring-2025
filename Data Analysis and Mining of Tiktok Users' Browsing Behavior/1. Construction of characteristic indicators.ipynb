{
 "cells": [
  {
   "cell_type": "markdown",
   "id": "57e1acd2",
   "metadata": {},
   "source": [
    "Construction of characteristic indicators"
   ]
  },
  {
   "cell_type": "code",
   "execution_count": 1,
   "id": "b2748e23",
   "metadata": {},
   "outputs": [],
   "source": [
    "import pandas as pd\n",
    "import numpy as np"
   ]
  },
  {
   "cell_type": "markdown",
   "id": "f8c4f3c5",
   "metadata": {},
   "source": [
    "Dataset Description，\n",
    "Uid - User ID，\n",
    "user_city - City where the user is located，\n",
    "item_id - Work ID，\n",
    "author_id - Author ID，\n",
    "item_city - City where the author is located，\n",
    "channel - Work Channel，\n",
    "Finish - whether you have finished watching，\n",
    "like - whether you like，\n",
    "music_id - music id，\n",
    "Duration_time - duration of the work，\n",
    "real_time - specific release time H, date hour, day (release)，"
   ]
  },
  {
   "cell_type": "markdown",
   "id": "7ed7c64e",
   "metadata": {},
   "source": [
    "We can categorize browsing behavior data into the following simple classifications:\n",
    "\n",
    "User Information:\n",
    "uid, user_city\n",
    "\n",
    "Item Information:\n",
    "item_id, item_city, channel, musicid, duration_time, real_time, H, date\n",
    "\n",
    "Author Information:\n",
    "authorid\n",
    "\n",
    "Behavior Descriptions:\n",
    "finish, like\n",
    "\n",
    "Additionally, we can abstract entities such as users, items, authors, music, and cities from browsing behavior. In this project, we will focus on simple analyses from the perspectives of users, authors, and items, incorporating basic data analysis methods. "
   ]
  },
  {
   "cell_type": "markdown",
   "id": "90296e42",
   "metadata": {},
   "source": [
    "1. Simple data processing"
   ]
  },
  {
   "cell_type": "code",
   "execution_count": 2,
   "id": "6bf9b3ec",
   "metadata": {},
   "outputs": [
    {
     "data": {
      "text/html": [
       "<div>\n",
       "<style scoped>\n",
       "    .dataframe tbody tr th:only-of-type {\n",
       "        vertical-align: middle;\n",
       "    }\n",
       "\n",
       "    .dataframe tbody tr th {\n",
       "        vertical-align: top;\n",
       "    }\n",
       "\n",
       "    .dataframe thead th {\n",
       "        text-align: right;\n",
       "    }\n",
       "</style>\n",
       "<table border=\"1\" class=\"dataframe\">\n",
       "  <thead>\n",
       "    <tr style=\"text-align: right;\">\n",
       "      <th></th>\n",
       "      <th>Unnamed: 0</th>\n",
       "      <th>uid</th>\n",
       "      <th>user_city</th>\n",
       "      <th>item_id</th>\n",
       "      <th>author_id</th>\n",
       "      <th>item_city</th>\n",
       "      <th>channel</th>\n",
       "      <th>finish</th>\n",
       "      <th>like</th>\n",
       "      <th>music_id</th>\n",
       "      <th>duration_time</th>\n",
       "      <th>real_time</th>\n",
       "      <th>H</th>\n",
       "      <th>date</th>\n",
       "    </tr>\n",
       "  </thead>\n",
       "  <tbody>\n",
       "    <tr>\n",
       "      <th>0</th>\n",
       "      <td>3</td>\n",
       "      <td>15692</td>\n",
       "      <td>109.0</td>\n",
       "      <td>691661</td>\n",
       "      <td>18212</td>\n",
       "      <td>213.0</td>\n",
       "      <td>0</td>\n",
       "      <td>0</td>\n",
       "      <td>0</td>\n",
       "      <td>11513.0</td>\n",
       "      <td>10</td>\n",
       "      <td>2019-10-28 21:55:10</td>\n",
       "      <td>21</td>\n",
       "      <td>2019-10-28</td>\n",
       "    </tr>\n",
       "    <tr>\n",
       "      <th>1</th>\n",
       "      <td>5</td>\n",
       "      <td>44071</td>\n",
       "      <td>80.0</td>\n",
       "      <td>1243212</td>\n",
       "      <td>34500</td>\n",
       "      <td>68.0</td>\n",
       "      <td>0</td>\n",
       "      <td>0</td>\n",
       "      <td>0</td>\n",
       "      <td>1274.0</td>\n",
       "      <td>9</td>\n",
       "      <td>2019-10-21 22:27:03</td>\n",
       "      <td>22</td>\n",
       "      <td>2019-10-21</td>\n",
       "    </tr>\n",
       "    <tr>\n",
       "      <th>2</th>\n",
       "      <td>16</td>\n",
       "      <td>10902</td>\n",
       "      <td>202.0</td>\n",
       "      <td>3845855</td>\n",
       "      <td>634066</td>\n",
       "      <td>113.0</td>\n",
       "      <td>0</td>\n",
       "      <td>0</td>\n",
       "      <td>0</td>\n",
       "      <td>762.0</td>\n",
       "      <td>10</td>\n",
       "      <td>2019-10-26 00:38:51</td>\n",
       "      <td>0</td>\n",
       "      <td>2019-10-26</td>\n",
       "    </tr>\n",
       "    <tr>\n",
       "      <th>3</th>\n",
       "      <td>19</td>\n",
       "      <td>25300</td>\n",
       "      <td>21.0</td>\n",
       "      <td>3929579</td>\n",
       "      <td>214923</td>\n",
       "      <td>330.0</td>\n",
       "      <td>0</td>\n",
       "      <td>0</td>\n",
       "      <td>0</td>\n",
       "      <td>2332.0</td>\n",
       "      <td>15</td>\n",
       "      <td>2019-10-25 20:36:25</td>\n",
       "      <td>20</td>\n",
       "      <td>2019-10-25</td>\n",
       "    </tr>\n",
       "    <tr>\n",
       "      <th>4</th>\n",
       "      <td>24</td>\n",
       "      <td>3656</td>\n",
       "      <td>138.0</td>\n",
       "      <td>2572269</td>\n",
       "      <td>182680</td>\n",
       "      <td>80.0</td>\n",
       "      <td>0</td>\n",
       "      <td>0</td>\n",
       "      <td>0</td>\n",
       "      <td>238.0</td>\n",
       "      <td>9</td>\n",
       "      <td>2019-10-21 20:46:29</td>\n",
       "      <td>20</td>\n",
       "      <td>2019-10-21</td>\n",
       "    </tr>\n",
       "  </tbody>\n",
       "</table>\n",
       "</div>"
      ],
      "text/plain": [
       "   Unnamed: 0    uid  user_city  item_id  author_id  item_city  channel  \\\n",
       "0           3  15692      109.0   691661      18212      213.0        0   \n",
       "1           5  44071       80.0  1243212      34500       68.0        0   \n",
       "2          16  10902      202.0  3845855     634066      113.0        0   \n",
       "3          19  25300       21.0  3929579     214923      330.0        0   \n",
       "4          24   3656      138.0  2572269     182680       80.0        0   \n",
       "\n",
       "   finish  like  music_id  duration_time            real_time   H        date  \n",
       "0       0     0   11513.0             10  2019-10-28 21:55:10  21  2019-10-28  \n",
       "1       0     0    1274.0              9  2019-10-21 22:27:03  22  2019-10-21  \n",
       "2       0     0     762.0             10  2019-10-26 00:38:51   0  2019-10-26  \n",
       "3       0     0    2332.0             15  2019-10-25 20:36:25  20  2019-10-25  \n",
       "4       0     0     238.0              9  2019-10-21 20:46:29  20  2019-10-21  "
      ]
     },
     "execution_count": 2,
     "metadata": {},
     "output_type": "execute_result"
    }
   ],
   "source": [
    "#Simple data processing\n",
    "df = pd.read_csv('douyin_dataset.csv')\n",
    "df.head()"
   ]
  },
  {
   "cell_type": "code",
   "execution_count": 3,
   "id": "b6c33b00",
   "metadata": {},
   "outputs": [],
   "source": [
    "del df['Unnamed: 0']"
   ]
  },
  {
   "cell_type": "code",
   "execution_count": 4,
   "id": "5b22c422",
   "metadata": {},
   "outputs": [
    {
     "name": "stdout",
     "output_type": "stream",
     "text": [
      "<class 'pandas.core.frame.DataFrame'>\n",
      "RangeIndex: 1737312 entries, 0 to 1737311\n",
      "Data columns (total 13 columns):\n",
      " #   Column         Non-Null Count    Dtype  \n",
      "---  ------         --------------    -----  \n",
      " 0   uid            1737312 non-null  int64  \n",
      " 1   user_city      1737312 non-null  float64\n",
      " 2   item_id        1737312 non-null  int64  \n",
      " 3   author_id      1737312 non-null  int64  \n",
      " 4   item_city      1737312 non-null  float64\n",
      " 5   channel        1737312 non-null  int64  \n",
      " 6   finish         1737312 non-null  int64  \n",
      " 7   like           1737312 non-null  int64  \n",
      " 8   music_id       1737312 non-null  float64\n",
      " 9   duration_time  1737312 non-null  int64  \n",
      " 10  real_time      1737312 non-null  object \n",
      " 11  H              1737312 non-null  int64  \n",
      " 12  date           1737312 non-null  object \n",
      "dtypes: float64(3), int64(8), object(2)\n",
      "memory usage: 172.3+ MB\n"
     ]
    }
   ],
   "source": [
    "df.info(show_counts=True)#Basic Information of Data Basic Information"
   ]
  },
  {
   "cell_type": "markdown",
   "id": "a11e366e",
   "metadata": {},
   "source": [
    "2. Construction of characteristic indicators\n",
    "\n",
    "User statistics indicators include: views, likes, complete views, viewed works, viewed authors, average viewing time, viewed music, visited cities, viewed works cities, and user's city.\n",
    "\n",
    "The author's statistical indicators include: creative activity (in days), number of cities visited, number of days works published, number of music used, total views, total likes, total completion, total number of works, average duration of works, and author's permanent residence.\n",
    "\n",
    "The statistical indicators of the work include: likes, views, published cities, and background music."
   ]
  },
  {
   "cell_type": "markdown",
   "id": "b52afcf9",
   "metadata": {},
   "source": [
    "3. Statistical analysis of characteristic indicators"
   ]
  },
  {
   "cell_type": "markdown",
   "id": "c82c4734",
   "metadata": {},
   "source": [
    "3.1 Statistical analysis of user characteristics"
   ]
  },
  {
   "cell_type": "code",
   "execution_count": 5,
   "id": "69452662",
   "metadata": {},
   "outputs": [],
   "source": [
    "user_df = pd.DataFrame()\n",
    "user_df['uid'] = df.groupby('uid')['like'].count().index.tolist() #Extract the UID of all users as UID columns\n",
    "user_df.set_index('uid', inplace=True) #Set UID column as index for easy automatic alignment of subsequent data\n",
    "user_df['Page_view'] = df.groupby('uid')['like'].count() #Count the browsing volume under the corresponding UID\n",
    "user_df['Like_count']  = df.groupby('uid')['like'].sum() #Count the number of likes under the corresponding UID\n",
    "user_df['Number_of_authors_viewed'] = df.groupby(['uid']).agg({'author_id':pd.Series.nunique}) #Number of authors viewed\n",
    "user_df['Number_of_viewed_works'] = df.groupby(['uid']).agg({'item_id':pd.Series.nunique}) #Number of viewed works\n",
    "user_df['Average_duration_of_viewing_works'] = df.groupby(['uid'])['duration_time'].mean() #Average duration of browsing works\n",
    "user_df['Number_of_background_music_views'] = df.groupby(['uid']).agg({'music_id':pd.Series.nunique}) #Watch the number of background music pieces in the work\n",
    "user_df['Complete_views']  = df.groupby('uid')['finish'].sum() #Count the complete number of views under the corresponding UID\n",
    "user_df['Number_of_cities_visited'] = df.groupby(['uid']).agg({'user_city':pd.Series.nunique}) #Count the number of cities visited by UID users\n",
    "user_df['Number_of_citzes_viewing_works'] = df.groupby(['uid']).agg({'item_city':pd.Series.nunique}) #Count the number of cities where the corresponding UID users view works\n",
    "#Count the most frequently appearing cities for each UID (the cities where users are most frequently located)\n",
    "user_city_mode = df.groupby('uid')['user_city'].agg(lambda x: x.mode().iloc[0] if not x.mode().empty else None)\n",
    "user_df['City_where_the_user_is_located'] = user_city_mode#Add to user_def\n",
    "user_df.describe()\n",
    "user_df.to_csv('user_characteristics.csv', encoding='utf_8_sig')#Save Results"
   ]
  },
  {
   "cell_type": "markdown",
   "id": "0970f115",
   "metadata": {},
   "source": [
    "3.2 Author Characteristics Statistical Analysis"
   ]
  },
  {
   "cell_type": "code",
   "execution_count": 6,
   "id": "b190d267",
   "metadata": {},
   "outputs": [],
   "source": [
    "#Ensure that duration_time is of numeric type\n",
    "df['duration_time'] = pd.to_numeric(df['duration_time'], errors='coerce')\n",
    "df['duration_time'].fillna(df['duration_time'].mean(), inplace=True)\n",
    "\n",
    "#Constructing an Author Feature Table\n",
    "author_df = pd.DataFrame()\n",
    "author_df['Total_views'] = df.groupby('author_id')['like'].count()\n",
    "author_df['Total_likes'] = df.groupby('author_id')['like'].sum()\n",
    "author_df['Total_complete_views'] = df.groupby('author_id')['finish'].sum()\n",
    "author_df['Total_number_of_works'] = df.groupby('author_id')['item_id'].nunique()\n",
    "\n",
    "#Calculate the average duration of the work\n",
    "item_time = df.groupby(['author_id', 'item_id'])['duration_time'].mean().reset_index()\n",
    "author_df['Average_duration_of_works'] = item_time.groupby('author_id')['duration_time'].mean()\n",
    "\n",
    "author_df['Number_of_background_music_used'] = df.groupby('author_id')['music_id'].nunique()\n",
    "author_df['Number_of_days_since_the_publication_of_the_work'] = df.groupby('author_id')['real_time'].nunique()\n",
    "\n",
    "#Calculate creative activity\n",
    "author_days = df.groupby('author_id')['date']\n",
    "date_diff = pd.to_datetime(author_days.max()) - pd.to_datetime(author_days.min())\n",
    "author_df['Creative_activity_(daily)'] = date_diff.dt.days + 1\n",
    "\n",
    "#Number of cities visited\n",
    "author_df['Number_of_cities_visited'] = df.groupby('author_id')['item_city'].nunique()\n",
    "\n",
    "#Obtain the city where each author most frequently appears in the work (author's location)\n",
    "author_city_mode = df.groupby('author_id')['item_city'].agg(lambda x: x.mode().iloc[0] if not x.mode().empty else None)\n",
    "author_df['City_where_the_author_is_located'] = author_city_mode\n",
    "\n",
    "#Save Results\n",
    "author_df.to_csv('author_characteristics.csv', encoding='utf_8_sig')"
   ]
  },
  {
   "cell_type": "markdown",
   "id": "2ec13c1d",
   "metadata": {},
   "source": [
    "3.3 Statistical analysis of work features"
   ]
  },
  {
   "cell_type": "code",
   "execution_count": 7,
   "id": "97075c38",
   "metadata": {},
   "outputs": [],
   "source": [
    "item_df = pd.DataFrame()\n",
    "item_df['item_id'] = df.groupby('item_id')['like'].count().index.tolist()\n",
    "item_df.set_index('item_id', inplace=True)\n",
    "item_df['Page_view'] = df.groupby('item_id')['like'].count()\n",
    "item_df['Like_count']  = df.groupby('item_id')['like'].sum()\n",
    "item_df['Publish_city'] = df.groupby('item_id')['item_city'].mean()\n",
    "item_df['Background_music'] = df.groupby('item_id')['music_id'].mean()\n",
    "\n",
    "item_df.to_csv('features_of_the_work.csv', encoding='utf_8_sig')"
   ]
  }
 ],
 "metadata": {
  "kernelspec": {
   "display_name": "Python 3",
   "language": "python",
   "name": "python3"
  },
  "language_info": {
   "codemirror_mode": {
    "name": "ipython",
    "version": 3
   },
   "file_extension": ".py",
   "mimetype": "text/x-python",
   "name": "python",
   "nbconvert_exporter": "python",
   "pygments_lexer": "ipython3",
   "version": "3.12.0"
  }
 },
 "nbformat": 4,
 "nbformat_minor": 5
}
